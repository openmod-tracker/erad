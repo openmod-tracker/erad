{
 "cells": [
  {
   "cell_type": "markdown",
   "metadata": {},
   "source": [
    "# Installation\n",
    "\n",
    "##  Installing using PyPI\n",
    "\n",
    "We recommend creating a new virtual environment before installing ERAD. Once the new virtual environment is ready, install ERAD using the following command.\n",
    "\n",
    "```shell\n",
    "pip install NREL-erad\n",
    "```"
   ]
  },
  {
   "cell_type": "markdown",
   "metadata": {},
   "source": [
    "```{note}\n",
    "The version 0.1.0+ releases of ERAD have removed dependence on Neo4J Desktop, and simplified the installation and setup process. For graph based analysis, NetworkX will be used instead.\n",
    "```"
   ]
  },
  {
   "cell_type": "markdown",
   "metadata": {},
   "source": [
    "##  Installing in Development Mode\n",
    "\n",
    "To install ERAD in development mode, clone the repository and install the dependencies using pip in a new environment:\n",
    "\n",
    "```shell\n",
    "git clone https://github.com/NREL-Distribution-Suites/erad.git\n",
    "cd erad\n",
    "pip install -e[dev,doc] .\n",
    "```\n",
    "\n",
    "This will install ERAD in editable mode, allowing you to make changes to the source code and have them reflected immediately.\n",
    "\n",
    "## Running Tests Locally\n",
    "\n",
    "To run the test suite locally, use the following command from the root of the repository:\n",
    "\n",
    "```shell\n",
    "pytest tests/\n",
    "```\n",
    "\n",
    "This will execute all tests in the `tests/` directory and report the results. Make sure you have installed all development dependencies before running the tests."
   ]
  }
 ],
 "metadata": {
  "kernelspec": {
   "display_name": "Python 3",
   "language": "python",
   "name": "python3"
  },
  "language_info": {
   "codemirror_mode": {
    "name": "ipython",
    "version": 3
   },
   "file_extension": ".py",
   "mimetype": "text/x-python",
   "name": "python",
   "nbconvert_exporter": "python",
   "pygments_lexer": "ipython3",
   "version": "3.8.0"
  },
  "widgets": {
   "application/vnd.jupyter.widget-state+json": {
    "state": {},
    "version_major": 2,
    "version_minor": 0
   }
  }
 },
 "nbformat": 4,
 "nbformat_minor": 4
}
